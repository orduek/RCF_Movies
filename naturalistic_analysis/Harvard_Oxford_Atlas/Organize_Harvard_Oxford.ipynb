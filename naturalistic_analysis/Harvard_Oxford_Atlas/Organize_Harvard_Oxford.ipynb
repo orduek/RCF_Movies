{
 "cells": [
  {
   "cell_type": "code",
   "execution_count": 1,
   "id": "4fbf6f27",
   "metadata": {},
   "outputs": [
    {
     "name": "stderr",
     "output_type": "stream",
     "text": [
      "/gpfs/ysm/project/joormann/oad4/conda_envs/neuroAnalysis/lib/python3.9/site-packages/nilearn/datasets/__init__.py:93: FutureWarning: Fetchers from the nilearn.datasets module will be updated in version 0.9 to return python strings instead of bytes and Pandas dataframes instead of Numpy arrays.\n",
      "  warn(\"Fetchers from the nilearn.datasets module will be \"\n"
     ]
    }
   ],
   "source": [
    "%config Completer.use_jedi = False\n",
    "from nilearn import datasets\n",
    "from nilearn import image\n",
    "from nilearn import plotting\n",
    "import numpy as np"
   ]
  },
  {
   "cell_type": "code",
   "execution_count": 2,
   "id": "6d56cc8a",
   "metadata": {},
   "outputs": [],
   "source": [
    "datadir = '/gpfs/gibbs/pi/levy_ifat/Or/ROI/'\n",
    "cort = datasets.atlas.fetch_atlas_harvard_oxford('cort-maxprob-thr50-2mm', data_dir=datadir)\n",
    "subcort = datasets.atlas.fetch_atlas_harvard_oxford('sub-maxprob-thr50-2mm', data_dir=datadir)"
   ]
  },
  {
   "cell_type": "code",
   "execution_count": 22,
   "id": "fa2deca6",
   "metadata": {
    "scrolled": true
   },
   "outputs": [],
   "source": [
    "# organize the images and the labels\n",
    "images = [cort['maps'], subcort['maps']]\n",
    "labelsBoth = np.hstack((cort['labels'][1:], subcort['labels'][1:]))\n",
    "np.savetxt('labels_harvard_oxfordCombined.txt', labelsBoth, fmt='%s')"
   ]
  },
  {
   "cell_type": "code",
   "execution_count": 20,
   "id": "4e53d8ec",
   "metadata": {},
   "outputs": [
    {
     "data": {
      "text/plain": [
       "(69,)"
      ]
     },
     "execution_count": 20,
     "metadata": {},
     "output_type": "execute_result"
    }
   ],
   "source": [
    "labelsBoth.shape"
   ]
  },
  {
   "cell_type": "code",
   "execution_count": 10,
   "id": "53c12962",
   "metadata": {},
   "outputs": [
    {
     "data": {
      "text/plain": [
       "21"
      ]
     },
     "execution_count": 10,
     "metadata": {},
     "output_type": "execute_result"
    }
   ],
   "source": [
    "#len(cort['labels'][1:])\n",
    "len(subcort['labels'][1:])"
   ]
  },
  {
   "cell_type": "code",
   "execution_count": 4,
   "id": "89e52034",
   "metadata": {},
   "outputs": [
    {
     "data": {
      "text/plain": [
       "69"
      ]
     },
     "execution_count": 4,
     "metadata": {},
     "output_type": "execute_result"
    }
   ],
   "source": [
    "len(cort['labels'])\n",
    "len(subcort['labels'])\n",
    "48+21"
   ]
  },
  {
   "cell_type": "code",
   "execution_count": 13,
   "id": "8ff08955",
   "metadata": {},
   "outputs": [
    {
     "data": {
      "text/plain": [
       "['Background',\n",
       " 'Left Cerebral White Matter',\n",
       " 'Left Cerebral Cortex ',\n",
       " 'Left Lateral Ventrical',\n",
       " 'Left Thalamus',\n",
       " 'Left Caudate',\n",
       " 'Left Putamen',\n",
       " 'Left Pallidum',\n",
       " 'Brain-Stem',\n",
       " 'Left Hippocampus',\n",
       " 'Left Amygdala',\n",
       " 'Left Accumbens',\n",
       " 'Right Cerebral White Matter',\n",
       " 'Right Cerebral Cortex ',\n",
       " 'Right Lateral Ventricle',\n",
       " 'Right Thalamus',\n",
       " 'Right Caudate',\n",
       " 'Right Putamen',\n",
       " 'Right Pallidum',\n",
       " 'Right Hippocampus',\n",
       " 'Right Amygdala',\n",
       " 'Right Accumbens']"
      ]
     },
     "execution_count": 13,
     "metadata": {},
     "output_type": "execute_result"
    }
   ],
   "source": [
    "subcort['labels']"
   ]
  },
  {
   "cell_type": "code",
   "execution_count": 12,
   "id": "cbb1b14d",
   "metadata": {},
   "outputs": [
    {
     "ename": "TypeError",
     "evalue": "Field elements must be 2- or 3-tuples, got ''Background''",
     "output_type": "error",
     "traceback": [
      "\u001b[0;31m---------------------------------------------------------------------------\u001b[0m",
      "\u001b[0;31mTypeError\u001b[0m                                 Traceback (most recent call last)",
      "\u001b[0;32m/tmp/ipykernel_2563/2095980125.py\u001b[0m in \u001b[0;36m<module>\u001b[0;34m\u001b[0m\n\u001b[0;32m----> 1\u001b[0;31m \u001b[0mlabelsBoth\u001b[0m \u001b[0;34m=\u001b[0m \u001b[0mnp\u001b[0m\u001b[0;34m.\u001b[0m\u001b[0marray\u001b[0m\u001b[0;34m(\u001b[0m\u001b[0mlabelsBoth\u001b[0m\u001b[0;34m[\u001b[0m\u001b[0;36m0\u001b[0m\u001b[0;34m]\u001b[0m\u001b[0;34m,\u001b[0m \u001b[0mlabelsBoth\u001b[0m\u001b[0;34m[\u001b[0m\u001b[0;36m1\u001b[0m\u001b[0;34m]\u001b[0m\u001b[0;34m)\u001b[0m\u001b[0;34m\u001b[0m\u001b[0;34m\u001b[0m\u001b[0m\n\u001b[0m\u001b[1;32m      2\u001b[0m \u001b[0mlabelsBoth\u001b[0m\u001b[0;34m[\u001b[0m\u001b[0;36m64\u001b[0m\u001b[0;34m]\u001b[0m\u001b[0;34m\u001b[0m\u001b[0;34m\u001b[0m\u001b[0m\n",
      "\u001b[0;31mTypeError\u001b[0m: Field elements must be 2- or 3-tuples, got ''Background''"
     ]
    }
   ],
   "source": [
    "labelsBoth = np.array(labelsBoth[0], labelsBoth[1])\n",
    "labelsBoth"
   ]
  },
  {
   "cell_type": "code",
   "execution_count": 9,
   "id": "3b2b6dfd",
   "metadata": {},
   "outputs": [],
   "source": [
    "# only if we want to concatenate - not neccessary\n",
    "atlas = image.load_img(images)\n",
    "atlas = image.math_img('np.sum(img, axis=-1)', img=atlas)"
   ]
  },
  {
   "cell_type": "code",
   "execution_count": 11,
   "id": "0228c026",
   "metadata": {},
   "outputs": [],
   "source": [
    "atlas.to_filename('harvard_oxford_both.nii.gz')"
   ]
  },
  {
   "cell_type": "code",
   "execution_count": null,
   "id": "9439481b",
   "metadata": {},
   "outputs": [],
   "source": [
    "plotting.plot_roi(atlas)"
   ]
  },
  {
   "cell_type": "markdown",
   "id": "e4ca8684",
   "metadata": {},
   "source": [
    "## Extract time series\n"
   ]
  },
  {
   "cell_type": "code",
   "execution_count": 5,
   "id": "09daec90",
   "metadata": {},
   "outputs": [],
   "source": [
    "from nltools.data import Brain_Data\n",
    "import glob\n",
    "import os\n",
    "import pandas as pd"
   ]
  },
  {
   "cell_type": "code",
   "execution_count": null,
   "id": "119872c1",
   "metadata": {
    "scrolled": true
   },
   "outputs": [],
   "source": [
    "pd.show_versions()\n"
   ]
  },
  {
   "cell_type": "code",
   "execution_count": 7,
   "id": "9dd44bad",
   "metadata": {},
   "outputs": [],
   "source": [
    "#mask = Brain_Data(atlas)\n",
    "mask_cort = Brain_Data(cort['maps']) # just cortical\n",
    "mask_subcort = Brain_Data(subcort['maps']) # just subcort"
   ]
  },
  {
   "cell_type": "code",
   "execution_count": null,
   "id": "cce6adc6",
   "metadata": {},
   "outputs": [],
   "source": [
    "mask.plot()"
   ]
  },
  {
   "cell_type": "code",
   "execution_count": 8,
   "id": "3eee578c",
   "metadata": {},
   "outputs": [
    {
     "name": "stdout",
     "output_type": "stream",
     "text": [
      "/gpfs/gibbs/pi/levy_ifat/Or/RCF_clips/derivatives/fmriprep/sub-1237/ses-3/func/sub-1237_ses-3_denoise_smooth6mm_task-movie_space-MNI152NLin2009cAsym_desc-preproc_bold.hdf5\n",
      "sub-1237\n",
      "/gpfs/gibbs/pi/levy_ifat/Or/RCF_clips/derivatives/fmriprep/sub-1099/ses-3/func/sub-1099_ses-3_denoise_smooth6mm_task-movie_space-MNI152NLin2009cAsym_desc-preproc_bold.hdf5\n",
      "sub-1099\n",
      "/gpfs/gibbs/pi/levy_ifat/Or/RCF_clips/derivatives/fmriprep/sub-1272/ses-3/func/sub-1272_ses-3_denoise_smooth6mm_task-movie_space-MNI152NLin2009cAsym_desc-preproc_bold.hdf5\n",
      "sub-1272\n",
      "/gpfs/gibbs/pi/levy_ifat/Or/RCF_clips/derivatives/fmriprep/sub-1350/ses-3/func/sub-1350_ses-3_denoise_smooth6mm_task-movie_space-MNI152NLin2009cAsym_desc-preproc_bold.hdf5\n",
      "sub-1350\n",
      "/gpfs/gibbs/pi/levy_ifat/Or/RCF_clips/derivatives/fmriprep/sub-1271/ses-3/func/sub-1271_ses-3_denoise_smooth6mm_task-movie_space-MNI152NLin2009cAsym_desc-preproc_bold.hdf5\n",
      "sub-1271\n",
      "/gpfs/gibbs/pi/levy_ifat/Or/RCF_clips/derivatives/fmriprep/sub-1269/ses-3/func/sub-1269_ses-3_denoise_smooth6mm_task-movie_space-MNI152NLin2009cAsym_desc-preproc_bold.hdf5\n",
      "sub-1269\n",
      "/gpfs/gibbs/pi/levy_ifat/Or/RCF_clips/derivatives/fmriprep/sub-1005/ses-3/func/sub-1005_ses-3_denoise_smooth6mm_task-movie_space-MNI152NLin2009cAsym_desc-preproc_bold.hdf5\n",
      "sub-1005\n",
      "/gpfs/gibbs/pi/levy_ifat/Or/RCF_clips/derivatives/fmriprep/sub-1268/ses-3/func/sub-1268_ses-3_denoise_smooth6mm_task-movie_space-MNI152NLin2009cAsym_desc-preproc_bold.hdf5\n",
      "sub-1268\n",
      "/gpfs/gibbs/pi/levy_ifat/Or/RCF_clips/derivatives/fmriprep/sub-1362/ses-3/func/sub-1362_ses-3_denoise_smooth6mm_task-movie_space-MNI152NLin2009cAsym_desc-preproc_bold.hdf5\n",
      "sub-1362\n",
      "/gpfs/gibbs/pi/levy_ifat/Or/RCF_clips/derivatives/fmriprep/sub-1460/ses-3/func/sub-1460_ses-3_denoise_smooth6mm_task-movie_space-MNI152NLin2009cAsym_desc-preproc_bold.hdf5\n",
      "sub-1460\n",
      "/gpfs/gibbs/pi/levy_ifat/Or/RCF_clips/derivatives/fmriprep/sub-1072/ses-3/func/sub-1072_ses-3_denoise_smooth6mm_task-movie_space-MNI152NLin2009cAsym_desc-preproc_bold.hdf5\n",
      "sub-1072\n",
      "/gpfs/gibbs/pi/levy_ifat/Or/RCF_clips/derivatives/fmriprep/sub-1326/ses-3/func/sub-1326_ses-3_denoise_smooth6mm_task-movie_space-MNI152NLin2009cAsym_desc-preproc_bold.hdf5\n",
      "sub-1326\n",
      "/gpfs/gibbs/pi/levy_ifat/Or/RCF_clips/derivatives/fmriprep/sub-1312/ses-3/func/sub-1312_ses-3_denoise_smooth6mm_task-movie_space-MNI152NLin2009cAsym_desc-preproc_bold.hdf5\n",
      "sub-1312\n",
      "/gpfs/gibbs/pi/levy_ifat/Or/RCF_clips/derivatives/fmriprep/sub-1345/ses-3/func/sub-1345_ses-3_denoise_smooth6mm_task-movie_space-MNI152NLin2009cAsym_desc-preproc_bold.hdf5\n",
      "sub-1345\n",
      "/gpfs/gibbs/pi/levy_ifat/Or/RCF_clips/derivatives/fmriprep/sub-1266/ses-3/func/sub-1266_ses-3_denoise_smooth6mm_task-movie_space-MNI152NLin2009cAsym_desc-preproc_bold.hdf5\n",
      "sub-1266\n",
      "/gpfs/gibbs/pi/levy_ifat/Or/RCF_clips/derivatives/fmriprep/sub-1340/ses-3/func/sub-1340_ses-3_denoise_smooth6mm_task-movie_space-MNI152NLin2009cAsym_desc-preproc_bold.hdf5\n",
      "sub-1340\n",
      "/gpfs/gibbs/pi/levy_ifat/Or/RCF_clips/derivatives/fmriprep/sub-040/ses-3/func/sub-040_ses-3_denoise_smooth6mm_task-movie_space-MNI152NLin2009cAsym_desc-preproc_bold.hdf5\n",
      "sub-040\n",
      "/gpfs/gibbs/pi/levy_ifat/Or/RCF_clips/derivatives/fmriprep/sub-1309/ses-3/func/sub-1309_ses-3_denoise_smooth6mm_task-movie_space-MNI152NLin2009cAsym_desc-preproc_bold.hdf5\n",
      "sub-1309\n",
      "/gpfs/gibbs/pi/levy_ifat/Or/RCF_clips/derivatives/fmriprep/sub-1212/ses-3/func/sub-1212_ses-3_denoise_smooth6mm_task-movie_space-MNI152NLin2009cAsym_desc-preproc_bold.hdf5\n",
      "sub-1212\n",
      "/gpfs/gibbs/pi/levy_ifat/Or/RCF_clips/derivatives/fmriprep/sub-1074/ses-3/func/sub-1074_ses-3_denoise_smooth6mm_task-movie_space-MNI152NLin2009cAsym_desc-preproc_bold.hdf5\n",
      "sub-1074\n",
      "/gpfs/gibbs/pi/levy_ifat/Or/RCF_clips/derivatives/fmriprep/sub-1407/ses-3/func/sub-1407_ses-3_denoise_smooth6mm_task-movie_space-MNI152NLin2009cAsym_desc-preproc_bold.hdf5\n",
      "sub-1407\n",
      "/gpfs/gibbs/pi/levy_ifat/Or/RCF_clips/derivatives/fmriprep/sub-1245/ses-3/func/sub-1245_ses-3_denoise_smooth6mm_task-movie_space-MNI152NLin2009cAsym_desc-preproc_bold.hdf5\n",
      "sub-1245\n",
      "/gpfs/gibbs/pi/levy_ifat/Or/RCF_clips/derivatives/fmriprep/sub-1392/ses-3/func/sub-1392_ses-3_denoise_smooth6mm_task-movie_space-MNI152NLin2009cAsym_desc-preproc_bold.hdf5\n",
      "sub-1392\n",
      "/gpfs/gibbs/pi/levy_ifat/Or/RCF_clips/derivatives/fmriprep/sub-029/ses-3/func/sub-029_ses-3_denoise_smooth6mm_task-movie_space-MNI152NLin2009cAsym_desc-preproc_bold.hdf5\n",
      "sub-029\n",
      "/gpfs/gibbs/pi/levy_ifat/Or/RCF_clips/derivatives/fmriprep/sub-030/ses-3/func/sub-030_ses-3_denoise_smooth6mm_task-movie_space-MNI152NLin2009cAsym_desc-preproc_bold.hdf5\n",
      "sub-030\n",
      "/gpfs/gibbs/pi/levy_ifat/Or/RCF_clips/derivatives/fmriprep/sub-1303/ses-3/func/sub-1303_ses-3_denoise_smooth6mm_task-movie_space-MNI152NLin2009cAsym_desc-preproc_bold.hdf5\n",
      "sub-1303\n",
      "/gpfs/gibbs/pi/levy_ifat/Or/RCF_clips/derivatives/fmriprep/sub-1210/ses-3/func/sub-1210_ses-3_denoise_smooth6mm_task-movie_space-MNI152NLin2009cAsym_desc-preproc_bold.hdf5\n",
      "sub-1210\n",
      "/gpfs/gibbs/pi/levy_ifat/Or/RCF_clips/derivatives/fmriprep/sub-020/ses-3/func/sub-020_ses-3_denoise_smooth6mm_task-movie_space-MNI152NLin2009cAsym_desc-preproc_bold.hdf5\n",
      "sub-020\n",
      "/gpfs/gibbs/pi/levy_ifat/Or/RCF_clips/derivatives/fmriprep/sub-1379/ses-3/func/sub-1379_ses-3_denoise_smooth6mm_task-movie_space-MNI152NLin2009cAsym_desc-preproc_bold.hdf5\n",
      "sub-1379\n",
      "/gpfs/gibbs/pi/levy_ifat/Or/RCF_clips/derivatives/fmriprep/sub-1223/ses-3/func/sub-1223_ses-3_denoise_smooth6mm_task-movie_space-MNI152NLin2009cAsym_desc-preproc_bold.hdf5\n",
      "sub-1223\n",
      "/gpfs/gibbs/pi/levy_ifat/Or/RCF_clips/derivatives/fmriprep/sub-1359/ses-3/func/sub-1359_ses-3_denoise_smooth6mm_task-movie_space-MNI152NLin2009cAsym_desc-preproc_bold.hdf5\n",
      "sub-1359\n",
      "/gpfs/gibbs/pi/levy_ifat/Or/RCF_clips/derivatives/fmriprep/sub-1291/ses-3/func/sub-1291_ses-3_denoise_smooth6mm_task-movie_space-MNI152NLin2009cAsym_desc-preproc_bold.hdf5\n",
      "sub-1291\n",
      "/gpfs/gibbs/pi/levy_ifat/Or/RCF_clips/derivatives/fmriprep/sub-1374/ses-3/func/sub-1374_ses-3_denoise_smooth6mm_task-movie_space-MNI152NLin2009cAsym_desc-preproc_bold.hdf5\n",
      "sub-1374\n",
      "/gpfs/gibbs/pi/levy_ifat/Or/RCF_clips/derivatives/fmriprep/sub-1301/ses-3/func/sub-1301_ses-3_denoise_smooth6mm_task-movie_space-MNI152NLin2009cAsym_desc-preproc_bold.hdf5\n",
      "sub-1301\n",
      "/gpfs/gibbs/pi/levy_ifat/Or/RCF_clips/derivatives/fmriprep/sub-1531/ses-3/func/sub-1531_ses-3_denoise_smooth6mm_task-movie_space-MNI152NLin2009cAsym_desc-preproc_bold.hdf5\n",
      "sub-1531\n",
      "/gpfs/gibbs/pi/levy_ifat/Or/RCF_clips/derivatives/fmriprep/sub-1338/ses-3/func/sub-1338_ses-3_denoise_smooth6mm_task-movie_space-MNI152NLin2009cAsym_desc-preproc_bold.hdf5\n",
      "sub-1338\n",
      "/gpfs/gibbs/pi/levy_ifat/Or/RCF_clips/derivatives/fmriprep/sub-1320/ses-3/func/sub-1320_ses-3_denoise_smooth6mm_task-movie_space-MNI152NLin2009cAsym_desc-preproc_bold.hdf5\n",
      "sub-1320\n",
      "/gpfs/gibbs/pi/levy_ifat/Or/RCF_clips/derivatives/fmriprep/sub-1206/ses-3/func/sub-1206_ses-3_denoise_smooth6mm_task-movie_space-MNI152NLin2009cAsym_desc-preproc_bold.hdf5\n",
      "sub-1206\n",
      "/gpfs/gibbs/pi/levy_ifat/Or/RCF_clips/derivatives/fmriprep/sub-1221/ses-3/func/sub-1221_ses-3_denoise_smooth6mm_task-movie_space-MNI152NLin2009cAsym_desc-preproc_bold.hdf5\n",
      "sub-1221\n",
      "/gpfs/gibbs/pi/levy_ifat/Or/RCF_clips/derivatives/fmriprep/sub-1254/ses-3/func/sub-1254_ses-3_denoise_smooth6mm_task-movie_space-MNI152NLin2009cAsym_desc-preproc_bold.hdf5\n",
      "sub-1254\n",
      "/gpfs/gibbs/pi/levy_ifat/Or/RCF_clips/derivatives/fmriprep/sub-1258/ses-3/func/sub-1258_ses-3_denoise_smooth6mm_task-movie_space-MNI152NLin2009cAsym_desc-preproc_bold.hdf5\n",
      "sub-1258\n",
      "/gpfs/gibbs/pi/levy_ifat/Or/RCF_clips/derivatives/fmriprep/sub-1205/ses-3/func/sub-1205_ses-3_denoise_smooth6mm_task-movie_space-MNI152NLin2009cAsym_desc-preproc_bold.hdf5\n",
      "sub-1205\n",
      "/gpfs/gibbs/pi/levy_ifat/Or/RCF_clips/derivatives/fmriprep/sub-1220/ses-3/func/sub-1220_ses-3_denoise_smooth6mm_task-movie_space-MNI152NLin2009cAsym_desc-preproc_bold.hdf5\n",
      "sub-1220\n",
      "/gpfs/gibbs/pi/levy_ifat/Or/RCF_clips/derivatives/fmriprep/sub-1389/ses-3/func/sub-1389_ses-3_denoise_smooth6mm_task-movie_space-MNI152NLin2009cAsym_desc-preproc_bold.hdf5\n",
      "sub-1389\n"
     ]
    }
   ],
   "source": [
    "# extract timeseries for the Shen parcellation (268 regions)\n",
    "data_dir = '/gpfs/gibbs/pi/levy_ifat/Or/RCF_clips/results/Harvard_OxfordAtlas/' # where to save timeseries\n",
    "base_dir = '/gpfs/gibbs/pi/levy_ifat/Or/RCF_clips/derivatives/fmriprep' # where to take them from\n",
    "\n",
    "scan = 'ses-3'\n",
    "file_list = glob.glob(os.path.join(base_dir, '*',f'{scan}', 'func', f'*denoise*hdf5'))\n",
    "for f in file_list:\n",
    "    print(f)\n",
    "    sub = os.path.basename(f).split('_')[0]\n",
    "    print(sub)\n",
    "    data = Brain_Data(f)\n",
    "    roi_cort = data.extract_roi(mask_cort)\n",
    "    roi_sub = data.extract_roi(mask_subcort)\n",
    "    roi = np.vstack((roi_cort, roi_sub)) # stacking both of the together\n",
    "    pd.DataFrame(roi.T).to_csv(os.path.join(os.path.dirname(f), f\"{sub}_{scan}_Average_ROI_ho_atlas.csv\" ), index=False)\n",
    "    np.save(os.path.join(data_dir, f\"{sub}_{scan}_h_o_atlas\" ), roi)"
   ]
  },
  {
   "cell_type": "code",
   "execution_count": null,
   "id": "9b817ce4",
   "metadata": {},
   "outputs": [],
   "source": [
    "roi = np.vstack((roi_cort, roi_sub))\n",
    "roi.shape"
   ]
  }
 ],
 "metadata": {
  "kernelspec": {
   "display_name": "Python 3 (ipykernel)",
   "language": "python",
   "name": "python3"
  },
  "language_info": {
   "codemirror_mode": {
    "name": "ipython",
    "version": 3
   },
   "file_extension": ".py",
   "mimetype": "text/x-python",
   "name": "python",
   "nbconvert_exporter": "python",
   "pygments_lexer": "ipython3",
   "version": "3.9.9"
  }
 },
 "nbformat": 4,
 "nbformat_minor": 5
}
